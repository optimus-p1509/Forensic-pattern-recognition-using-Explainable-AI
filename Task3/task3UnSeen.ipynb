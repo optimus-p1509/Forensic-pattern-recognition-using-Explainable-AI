{
 "cells": [
  {
   "cell_type": "markdown",
   "metadata": {},
   "source": [
    "## Imports"
   ]
  },
  {
   "cell_type": "code",
   "execution_count": 1,
   "metadata": {},
   "outputs": [
    {
     "name": "stderr",
     "output_type": "stream",
     "text": [
      "Using TensorFlow backend.\n"
     ]
    }
   ],
   "source": [
    "from keras import losses\n",
    "from keras.models import Model\n",
    "from keras.layers import Input, Conv2D, MaxPooling2D, BatchNormalization, Activation, Reshape, UpSampling2D, Dense\n",
    "from keras.layers.merge import concatenate\n",
    "from keras.layers import Flatten\n",
    "from keras.optimizers import Adam\n",
    "import pandas as pd\n",
    "from scipy.misc import imresize\n",
    "from keras.layers import concatenate\n",
    "from keras.utils import np_utils\n",
    "import os\n",
    "import numpy as np\n",
    "import random\n",
    "import cv2\n",
    "import networkx as nx\n",
    "import pylab as plt"
   ]
  },
  {
   "cell_type": "markdown",
   "metadata": {},
   "source": [
    "## Functions For Datagen and Triplet Generation"
   ]
  },
  {
   "cell_type": "code",
   "execution_count": 2,
   "metadata": {},
   "outputs": [],
   "source": [
    "TRAINING_IMAGE_DIR = \"unseen-dataset/TrainingSet/\"\n",
    "VALIDATION_IMAGE_DIR = \"unseen-dataset/ValidationSet/\"\n",
    "\n",
    "def load_image(image_name):\n",
    "    if image_name not in image_cache:\n",
    "        image = cv2.imread(os.path.join(TRAINING_IMAGE_DIR,image_name),0)\n",
    "        if image is None:\n",
    "            image = cv2.imread(os.path.join(VALIDATION_IMAGE_DIR,image_name),0)\n",
    "        image = image.reshape((64,64,1))\n",
    "        image_cache[image_name] = image\n",
    "    return image_cache[image_name]\n",
    "\n",
    "def generate_image_triples_batch(image_triples, batch_size):\n",
    "    while True:\n",
    "        # loop once per epoch\n",
    "        indices = np.random.randint(0,len(image_triples),batch_size)\n",
    "        shuffled_triples = [image_triples[ix] for ix in indices]\n",
    "        num_batches = len(shuffled_triples) // batch_size\n",
    "        for bid in range(num_batches):\n",
    "            # loop once per batch\n",
    "            images_left, images_right, labels = [], [], []\n",
    "            batch = shuffled_triples[bid * batch_size : (bid + 1) * batch_size]\n",
    "            for i in range(batch_size):\n",
    "                lhs, rhs, label = batch[i]\n",
    "                images_left.append(load_image(lhs))\n",
    "                images_right.append(load_image(rhs))              \n",
    "                labels.append(label)\n",
    "            Xlhs = np.array(images_left)\n",
    "            Xrhs = np.array(images_right)\n",
    "            Y = np_utils.to_categorical(np.array(labels), num_classes=2)\n",
    "            yield ([Xlhs, Xrhs], Y)"
   ]
  },
  {
   "cell_type": "markdown",
   "metadata": {},
   "source": [
    "## Model Creation and Running"
   ]
  },
  {
   "cell_type": "code",
   "execution_count": 3,
   "metadata": {},
   "outputs": [
    {
     "name": "stdout",
     "output_type": "stream",
     "text": [
      "WARNING:tensorflow:From C:\\Users\\Parth\\Anaconda3\\lib\\site-packages\\tensorflow\\python\\framework\\op_def_library.py:263: colocate_with (from tensorflow.python.framework.ops) is deprecated and will be removed in a future version.\n",
      "Instructions for updating:\n",
      "Colocations handled automatically by placer.\n",
      "_________________________________________________________________\n",
      "Layer (type)                 Output Shape              Param #   \n",
      "=================================================================\n",
      "ImageInput (InputLayer)      (None, 64, 64, 1)         0         \n",
      "_________________________________________________________________\n",
      "conv2d_1 (Conv2D)            (None, 62, 62, 32)        320       \n",
      "_________________________________________________________________\n",
      "max_pooling2d_1 (MaxPooling2 (None, 31, 31, 32)        0         \n",
      "_________________________________________________________________\n",
      "conv2d_2 (Conv2D)            (None, 29, 29, 64)        18496     \n",
      "_________________________________________________________________\n",
      "max_pooling2d_2 (MaxPooling2 (None, 14, 14, 64)        0         \n",
      "_________________________________________________________________\n",
      "conv2d_3 (Conv2D)            (None, 12, 12, 128)       73856     \n",
      "_________________________________________________________________\n",
      "max_pooling2d_3 (MaxPooling2 (None, 6, 6, 128)         0         \n",
      "_________________________________________________________________\n",
      "conv2d_4 (Conv2D)            (None, 6, 6, 256)         33024     \n",
      "_________________________________________________________________\n",
      "max_pooling2d_4 (MaxPooling2 (None, 3, 3, 256)         0         \n",
      "_________________________________________________________________\n",
      "conv2d_5 (Conv2D)            (None, 3, 3, 64)          16448     \n",
      "_________________________________________________________________\n",
      "flatten_1 (Flatten)          (None, 576)               0         \n",
      "=================================================================\n",
      "Total params: 142,144\n",
      "Trainable params: 142,144\n",
      "Non-trainable params: 0\n",
      "_________________________________________________________________\n",
      "__________________________________________________________________________________________________\n",
      "Layer (type)                    Output Shape         Param #     Connected to                     \n",
      "==================================================================================================\n",
      "left_img (InputLayer)           (None, 64, 64, 1)    0                                            \n",
      "__________________________________________________________________________________________________\n",
      "right_img (InputLayer)          (None, 64, 64, 1)    0                                            \n",
      "__________________________________________________________________________________________________\n",
      "Feat_Model (Model)              (None, 576)          142144      left_img[0][0]                   \n",
      "                                                                 right_img[0][0]                  \n",
      "__________________________________________________________________________________________________\n",
      "concat_feats (Concatenate)      (None, 1152)         0           Feat_Model[1][0]                 \n",
      "                                                                 Feat_Model[2][0]                 \n",
      "__________________________________________________________________________________________________\n",
      "dense_1 (Dense)                 (None, 1024)         1180672     concat_feats[0][0]               \n",
      "__________________________________________________________________________________________________\n",
      "batch_normalization_1 (BatchNor (None, 1024)         4096        dense_1[0][0]                    \n",
      "__________________________________________________________________________________________________\n",
      "activation_1 (Activation)       (None, 1024)         0           batch_normalization_1[0][0]      \n",
      "__________________________________________________________________________________________________\n",
      "dense_2 (Dense)                 (None, 4)            4100        activation_1[0][0]               \n",
      "__________________________________________________________________________________________________\n",
      "batch_normalization_2 (BatchNor (None, 4)            16          dense_2[0][0]                    \n",
      "__________________________________________________________________________________________________\n",
      "activation_2 (Activation)       (None, 4)            0           batch_normalization_2[0][0]      \n",
      "__________________________________________________________________________________________________\n",
      "dense_3 (Dense)                 (None, 2)            10          activation_2[0][0]               \n",
      "==================================================================================================\n",
      "Total params: 1,331,038\n",
      "Trainable params: 1,328,982\n",
      "Non-trainable params: 2,056\n",
      "__________________________________________________________________________________________________\n",
      "WARNING:tensorflow:From C:\\Users\\Parth\\Anaconda3\\lib\\site-packages\\tensorflow\\python\\ops\\math_ops.py:3066: to_int32 (from tensorflow.python.ops.math_ops) is deprecated and will be removed in a future version.\n",
      "Instructions for updating:\n",
      "Use tf.cast instead.\n",
      "Epoch 1/10\n",
      "2031/2030 [==============================] - 98s 48ms/step - loss: 0.1108 - acc: 0.9991 - val_loss: 2.6577 - val_acc: 0.5011\n",
      "Epoch 2/10\n",
      "2031/2030 [==============================] - 96s 47ms/step - loss: 0.0039 - acc: 0.9996 - val_loss: 3.6124 - val_acc: 0.5005\n",
      "Epoch 3/10\n",
      "2031/2030 [==============================] - 97s 48ms/step - loss: 0.0032 - acc: 0.9995 - val_loss: 4.0963 - val_acc: 0.4958\n",
      "Epoch 4/10\n",
      "2031/2030 [==============================] - 96s 47ms/step - loss: 0.0026 - acc: 0.9996 - val_loss: 0.6177 - val_acc: 0.5081\n",
      "Epoch 5/10\n",
      "2031/2030 [==============================] - 98s 48ms/step - loss: 0.0023 - acc: 0.9995 - val_loss: 1.8234 - val_acc: 0.5219\n",
      "Epoch 6/10\n",
      "2031/2030 [==============================] - 99s 49ms/step - loss: 0.0021 - acc: 0.9995 - val_loss: 6.0179 - val_acc: 0.4947\n",
      "Epoch 7/10\n",
      "2031/2030 [==============================] - 97s 48ms/step - loss: 0.0014 - acc: 0.9996 - val_loss: 2.2824 - val_acc: 0.5049\n",
      "Epoch 8/10\n",
      "2031/2030 [==============================] - 98s 48ms/step - loss: 0.0011 - acc: 0.9997 - val_loss: 3.1644 - val_acc: 0.5074\n",
      "Epoch 9/10\n",
      "2031/2030 [==============================] - 97s 48ms/step - loss: 0.0021 - acc: 0.9995 - val_loss: 4.1156 - val_acc: 0.5017\n",
      "Epoch 10/10\n",
      "2031/2030 [==============================] - 98s 48ms/step - loss: 0.0011 - acc: 0.9997 - val_loss: 5.5289 - val_acc: 0.4923\n"
     ]
    }
   ],
   "source": [
    "training_data = pd.read_csv(\"unseen-dataset/dataset_unseen_training_siamese.csv\")\n",
    "validation_data = pd.read_csv(\"unseen-dataset/dataset_unseen_validation_siamese.csv\")\n",
    "image_cache = {}\n",
    "\n",
    "training_data = training_data.drop('Unnamed: 0',1)\n",
    "validation_data = validation_data.drop('Unnamed: 0',1)\n",
    "training_data\n",
    "imDim = 64\n",
    "input_shape  = (imDim,imDim,1)\n",
    "inp_img = Input(shape = (imDim,imDim,1), name = 'ImageInput')\n",
    "model = inp_img\n",
    "batchSize = 64\n",
    "\n",
    "model = Conv2D(32,kernel_size=(3, 3),activation='relu',input_shape=input_shape,padding='valid')(model)\n",
    "\n",
    "model = MaxPooling2D((2,2), padding='valid')(model)\n",
    "model = Conv2D(64, (3, 3), activation='relu',padding='valid')(model)\n",
    "\n",
    "model = MaxPooling2D((2,2),padding='valid')(model)\n",
    "\n",
    "model = Conv2D(128, (3, 3), activation='relu',padding='valid')(model)\n",
    "model = MaxPooling2D((2,2),padding='valid')(model)\n",
    "\n",
    "model = Conv2D(256, (1, 1), activation='relu',padding='valid')(model)\n",
    "model = MaxPooling2D((2,2),padding='valid')(model)\n",
    "\n",
    "model = Conv2D(64, (1, 1), activation='relu',padding='valid')(model)\n",
    "\n",
    "model = Flatten()(model)\n",
    "\n",
    "feat = Model(inputs=[inp_img], outputs=[model],name = 'Feat_Model')\n",
    "feat.summary()\n",
    "\n",
    "left_img = Input(shape = (imDim,imDim,1), name = 'left_img')\n",
    "right_img = Input(shape = (imDim,imDim,1), name = 'right_img')\n",
    "\n",
    "left_feats = feat(left_img)\n",
    "right_feats = feat(right_img)\n",
    "\n",
    "merged_feats = concatenate([left_feats, right_feats], name = 'concat_feats')\n",
    "merged_feats = Dense(1024, activation = 'linear')(merged_feats)\n",
    "merged_feats = BatchNormalization()(merged_feats)\n",
    "merged_feats = Activation('relu')(merged_feats)\n",
    "merged_feats = Dense(4, activation = 'linear')(merged_feats)\n",
    "merged_feats = BatchNormalization()(merged_feats)\n",
    "merged_feats = Activation('relu')(merged_feats)\n",
    "merged_feats = Dense(2, activation = 'sigmoid')(merged_feats)\n",
    "similarity_model = Model(inputs = [left_img, right_img], outputs = [merged_feats], name = 'Similarity_Model')\n",
    "similarity_model.compile(loss=losses.categorical_crossentropy, optimizer=Adam(), metrics=['accuracy'])\n",
    "similarity_model.summary()\n",
    "\n",
    "training_datagen = generate_image_triples_batch(training_data.values,batchSize)\n",
    "validation_datagen = generate_image_triples_batch(validation_data.values,batchSize)\n",
    "\n",
    "history = similarity_model.fit_generator(training_datagen,steps_per_epoch=len(training_data)/batchSize, epochs=10,validation_data=validation_datagen,validation_steps=len(validation_data)/batchSize)"
   ]
  },
  {
   "cell_type": "markdown",
   "metadata": {},
   "source": [
    "## Inference Plotting"
   ]
  },
  {
   "cell_type": "code",
   "execution_count": 4,
   "metadata": {},
   "outputs": [
    {
     "data": {
      "image/png": "[encoded data removed]",
      "text/plain": [
       "<Figure size 432x288 with 2 Axes>"
      ]
     },
     "metadata": {
      "needs_background": "light"
     },
     "output_type": "display_data"
    }
   ],
   "source": [
    "plt.subplot(211)\n",
    "plt.title(\"Loss\")\n",
    "plt.plot(history.history[\"loss\"], color=\"r\", label=\"train\")\n",
    "plt.plot(history.history[\"val_loss\"], color=\"b\", label=\"validation\")\n",
    "plt.legend(loc=\"best\")\n",
    "\n",
    "plt.subplot(212)\n",
    "plt.title(\"Accuracy\")\n",
    "plt.plot(history.history[\"acc\"], color=\"r\", label=\"train\")\n",
    "plt.plot(history.history[\"val_acc\"], color=\"b\", label=\"validation\")\n",
    "plt.legend(loc=\"best\")\n",
    "\n",
    "plt.tight_layout()\n",
    "plt.show()"
   ]
  }
 ],
 "metadata": {
  "kernelspec": {
   "display_name": "Python 3",
   "language": "python",
   "name": "python3"
  },
  "language_info": {
   "codemirror_mode": {
    "name": "ipython",
    "version": 3
   },
   "file_extension": ".py",
   "mimetype": "text/x-python",
   "name": "python",
   "nbconvert_exporter": "python",
   "pygments_lexer": "ipython3",
   "version": "3.6.8"
  }
 },
 "nbformat": 4,
 "nbformat_minor": 2
}
